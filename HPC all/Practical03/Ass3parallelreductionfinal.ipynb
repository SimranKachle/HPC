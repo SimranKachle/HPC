{
  "nbformat": 4,
  "nbformat_minor": 0,
  "metadata": {
    "colab": {
      "provenance": []
    },
    "kernelspec": {
      "name": "python3",
      "display_name": "Python 3"
    },
    "language_info": {
      "name": "python"
    }
  },
  "cells": [
    {
      "cell_type": "code",
      "execution_count": null,
      "metadata": {
        "colab": {
          "base_uri": "https://localhost:8080/"
        },
        "id": "-t5lsHaetGRL",
        "outputId": "0a607551-98f7-4da7-8d63-8f115e3d79d9"
      },
      "outputs": [
        {
          "output_type": "stream",
          "name": "stdout",
          "text": [
            "Writing all.cpp\n"
          ]
        }
      ],
      "source": [
        " %%writefile all.cpp\n",
        "#include <iostream>\n",
        "#include <vector>\n",
        "#include <omp.h>\n",
        "#include <climits>\n",
        "#include <chrono>\n",
        "\n",
        "using namespace std;\n",
        "\n",
        "void min_reduction(vector<int>& arr) {\n",
        "    int min_value = INT_MAX;\n",
        "    #pragma omp parallel for reduction(min: min_value)\n",
        "    for (int i = 0; i < arr.size(); i++) {\n",
        "        if (arr[i] < min_value) {\n",
        "            min_value = arr[i];\n",
        "        }\n",
        "    }\n",
        "    cout << \"Minimum value: \" << min_value << endl;\n",
        "}\n",
        "\n",
        "void max_reduction(vector<int>& arr) {\n",
        "    int max_value = INT_MIN;\n",
        "    #pragma omp parallel for reduction(max: max_value)\n",
        "    for (int i = 0; i < arr.size(); i++) {\n",
        "        if (arr[i] > max_value) {\n",
        "            max_value = arr[i];\n",
        "        }\n",
        "    }\n",
        "    cout << \"Maximum value: \" << max_value << endl;\n",
        "}\n",
        "\n",
        "void sum_reduction(vector<int>& arr) {\n",
        "    int sum = 0;\n",
        "    #pragma omp parallel for reduction(+: sum)\n",
        "    for (int i = 0; i < arr.size(); i++) {\n",
        "        sum += arr[i];\n",
        "    }\n",
        "    cout << \"Sum: \" << sum << endl;\n",
        "}\n",
        "\n",
        "void average_reduction(vector<int>& arr) {\n",
        "    int sum = 0;\n",
        "    #pragma omp parallel for reduction(+: sum)\n",
        "    for (int i = 0; i < arr.size(); i++) {\n",
        "        sum += arr[i];\n",
        "    }\n",
        "    cout << \"Average: \" << (double)sum / arr.size() << endl;\n",
        "}\n",
        "\n",
        "int main() {\n",
        "    int n;\n",
        "    cout << \"Enter the number of elements: \";\n",
        "    cin >> n;\n",
        "\n",
        "    vector<int> arr(n);\n",
        "    cout << \"Enter \" << n << \" elements:\\n\";\n",
        "    for (int i = 0; i < n; ++i) {\n",
        "        cin >> arr[i];\n",
        "    }\n",
        "\n",
        "    auto start_time = chrono::high_resolution_clock::now();\n",
        "\n",
        "    min_reduction(arr);\n",
        "    max_reduction(arr);\n",
        "    sum_reduction(arr);\n",
        "    average_reduction(arr);\n",
        "\n",
        "    auto end_time = chrono::high_resolution_clock::now();\n",
        "    auto duration = chrono::duration_cast<chrono::microseconds>(end_time - start_time).count();\n",
        "\n",
        "    cout << \"Time taken: \" << duration << \" microseconds\" << endl;\n",
        "    cout << \"Number of threads: \" << omp_get_max_threads() << endl;\n",
        "\n",
        "    return 0;\n",
        "}\n"
      ]
    },
    {
      "cell_type": "code",
      "source": [
        "!g++ -fopenmp all.cpp -o Myexe"
      ],
      "metadata": {
        "id": "VpC5UKPAuKIs"
      },
      "execution_count": null,
      "outputs": []
    },
    {
      "cell_type": "code",
      "source": [
        "!./Myexe"
      ],
      "metadata": {
        "colab": {
          "base_uri": "https://localhost:8080/"
        },
        "id": "Rsu-fyZHuNhd",
        "outputId": "e98a0094-fa23-41c1-ea82-c859acd4a066"
      },
      "execution_count": null,
      "outputs": [
        {
          "output_type": "stream",
          "name": "stdout",
          "text": [
            "Enter the number of elements: 5\n",
            "Enter 5 elements:\n",
            "1 \n",
            "2\n",
            "3\n",
            "4\n",
            "5\n",
            "Minimum value: 1\n",
            "Maximum value: 5\n",
            "Sum: 15\n",
            "Average: 3\n",
            "Time taken: 211 microseconds\n",
            "Number of threads: 2\n"
          ]
        }
      ]
    },
    {
      "cell_type": "code",
      "source": [
        "\n",
        "# 1. **Time Complexity**:\n",
        "#    - Question: What is the time complexity of your parallel reduction operations?\n",
        "#    - Answer: The time complexity of each parallel reduction operation (min, max, sum, average) is O(log n), where n is the number of elements in the array. This is because the array is divided among threads, each performing a portion of the reduction, and then the partial results are combined logarithmically until the final result is obtained.\n",
        "\n",
        "# 2. **Comparing Sequential vs. Parallel**:\n",
        "#    - Question: How does the parallel implementation improve performance compared to a sequential implementation?\n",
        "#    - Answer: In a sequential implementation, these operations have a time complexity of O(n), where n is the number of elements in the array, because each operation requires iterating through the entire array. However, in the parallel implementation, the workload is distributed among multiple threads, allowing multiple elements to be processed simultaneously. This reduces the overall execution time, especially for large arrays, making the parallel implementation more efficient.\n",
        "\n",
        "# 3. **Thread Management**:\n",
        "#    - Question: How does OpenMP manage threads in your code?\n",
        "#    - Answer: OpenMP manages threads automatically by creating a team of threads at the beginning of the parallel region and distributing the work among them. The number of threads can be controlled using environment variables or runtime functions. In our code, we use `omp_get_max_threads()` to retrieve the maximum number of threads available for parallel execution.\n",
        "\n",
        "# 4. **Load Balancing**:\n",
        "#    - Question: How does your code ensure load balancing among threads?\n",
        "#    - Answer: OpenMP automatically distributes the workload evenly among threads in the parallel region. Each thread processes a contiguous subset of the array, ensuring that the work is balanced. Additionally, the reduction operation efficiently combines the partial results produced by each thread.\n",
        "\n",
        "# 5. **Overhead**:\n",
        "#    - Question: Does parallelization introduce any overhead? If so, how is it managed?\n",
        "#    - Answer: Yes, parallelization introduces overhead due to thread creation, synchronization, and combining partial results. However, the benefits of parallel execution often outweigh this overhead, especially for large arrays. OpenMP manages overhead by optimizing thread creation and synchronization mechanisms.\n",
        "\n",
        "# 6. **Thread Synchronization**:\n",
        "#    - Question: How does your code ensure proper synchronization among threads?\n",
        "#    - Answer: Synchronization is achieved implicitly through OpenMP's reduction clause. Each thread maintains its own copy of the reduction variable (`min_value`, `max_value`, `sum`), and at the end of the parallel region, the partial results are combined using the specified reduction operation (min, max, +). This ensures thread safety without the need for explicit synchronization primitives.\n",
        "\n",
        "# These questions and answers provide insights into the performance, scalability, and thread management aspects of your parallel reduction operations."
      ],
      "metadata": {
        "id": "djBgXNYluPjo"
      },
      "execution_count": null,
      "outputs": []
    },
    {
      "cell_type": "code",
      "source": [
        "%%writefile all.cpp\n",
        "#include <iostream>\n",
        "#include <vector>\n",
        "#include <omp.h>\n",
        "#include <climits>\n",
        "#include <chrono>\n",
        "\n",
        "using namespace std;\n",
        "\n",
        "void min_reduction(vector<int>& arr) {\n",
        "    int min_value = INT_MAX;\n",
        "    #pragma omp parallel for reduction(min: min_value)\n",
        "    for (int i = 0; i < arr.size(); i++) {\n",
        "        if (arr[i] < min_value) {\n",
        "            min_value = arr[i];\n",
        "        }\n",
        "    }\n",
        "    cout << \"Minimum value: \" << min_value << endl;\n",
        "}\n",
        "\n",
        "void max_reduction(vector<int>& arr) {\n",
        "    int max_value = INT_MIN;\n",
        "    #pragma omp parallel for reduction(max: max_value)\n",
        "    for (int i = 0; i < arr.size(); i++) {\n",
        "        if (arr[i] > max_value) {\n",
        "            max_value = arr[i];\n",
        "        }\n",
        "    }\n",
        "    cout << \"Maximum value: \" << max_value << endl;\n",
        "}\n",
        "\n",
        "void sum_reduction(vector<int>& arr) {\n",
        "    int sum = 0;\n",
        "    #pragma omp parallel for reduction(+: sum)\n",
        "    for (int i = 0; i < arr.size(); i++) {\n",
        "        sum += arr[i];\n",
        "    }\n",
        "    cout << \"Sum: \" << sum << endl;\n",
        "}\n",
        "\n",
        "void average_reduction(vector<int>& arr) {\n",
        "    int sum = 0;\n",
        "    #pragma omp parallel for reduction(+: sum)\n",
        "    for (int i = 0; i < arr.size(); i++) {\n",
        "        sum += arr[i];\n",
        "    }\n",
        "    cout << \"Average: \" << (double)sum / arr.size() << endl;\n",
        "}\n",
        "\n",
        "int main() {\n",
        "    int n;\n",
        "    cout << \"Enter the number of elements: \";\n",
        "    cin >> n;\n",
        "\n",
        "    // Uncomment the following section to generate random values for the array\n",
        "    // and display them with their positions\n",
        "    // cout << \"Enter the number of elements (or uncomment to generate random values): \";\n",
        "    // cin >> n;\n",
        "    vector<int> arr(n);\n",
        "    srand(time(0)); // Seed random number generator\n",
        "    cout << \"Randomly generated array:\" << endl;\n",
        "    for (int i = 0; i < n; ++i) {\n",
        "        arr[i] = rand() % 1000; // Generate random numbers between 0 and 999\n",
        "        cout << \"Position \" << i << \": \" << arr[i] << endl;\n",
        "    }\n",
        "\n",
        "    // vector<int> arr(n);\n",
        "    // cout << \"Enter \" << n << \" elements:\\n\";\n",
        "    // for (int i = 0; i < n; ++i) {\n",
        "    //     cin >> arr[i];\n",
        "    // }\n",
        "\n",
        "    auto start_time = chrono::high_resolution_clock::now();\n",
        "\n",
        "    min_reduction(arr);\n",
        "    max_reduction(arr);\n",
        "    sum_reduction(arr);\n",
        "    average_reduction(arr);\n",
        "\n",
        "    auto end_time = chrono::high_resolution_clock::now();\n",
        "    auto duration = chrono::duration_cast<chrono::microseconds>(end_time - start_time).count();\n",
        "\n",
        "    cout << \"Time taken: \" << duration << \" microseconds\" << endl;\n",
        "    cout << \"Number of threads: \" << omp_get_max_threads() << endl;\n",
        "\n",
        "    return 0;\n",
        "}\n"
      ],
      "metadata": {
        "id": "YY5CauMoVfWG",
        "colab": {
          "base_uri": "https://localhost:8080/"
        },
        "outputId": "e3ae731f-537c-4b0e-c59b-2d9f649c861f"
      },
      "execution_count": 10,
      "outputs": [
        {
          "output_type": "stream",
          "name": "stdout",
          "text": [
            "Overwriting all.cpp\n"
          ]
        }
      ]
    },
    {
      "cell_type": "code",
      "source": [
        "!g++ -fopenmp all.cpp -o Myexe"
      ],
      "metadata": {
        "id": "9u4-jFqy_Sny"
      },
      "execution_count": 11,
      "outputs": []
    },
    {
      "cell_type": "code",
      "source": [
        "!./Myexe"
      ],
      "metadata": {
        "colab": {
          "base_uri": "https://localhost:8080/"
        },
        "id": "wVwAEAT__VfF",
        "outputId": "76f35e9d-46e1-40e5-b33a-65bca1fbf2ba"
      },
      "execution_count": 12,
      "outputs": [
        {
          "output_type": "stream",
          "name": "stdout",
          "text": [
            "Enter the number of elements: 10\n",
            "Randomly generated array:\n",
            "Position 0: 404\n",
            "Position 1: 751\n",
            "Position 2: 855\n",
            "Position 3: 624\n",
            "Position 4: 870\n",
            "Position 5: 37\n",
            "Position 6: 375\n",
            "Position 7: 395\n",
            "Position 8: 246\n",
            "Position 9: 424\n",
            "Minimum value: 37\n",
            "Maximum value: 870\n",
            "Sum: 4981\n",
            "Average: 498.1\n",
            "Time taken: 48448 microseconds\n",
            "Number of threads: 2\n"
          ]
        }
      ]
    },
    {
      "cell_type": "code",
      "source": [],
      "metadata": {
        "id": "AZNZC0QJ_Yjx"
      },
      "execution_count": null,
      "outputs": []
    }
  ]
}