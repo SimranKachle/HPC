{
  "nbformat": 4,
  "nbformat_minor": 0,
  "metadata": {
    "colab": {
      "provenance": []
    },
    "kernelspec": {
      "name": "python3",
      "display_name": "Python 3"
    },
    "language_info": {
      "name": "python"
    }
  },
  "cells": [
    {
      "cell_type": "code",
      "execution_count": null,
      "metadata": {
        "colab": {
          "base_uri": "https://localhost:8080/"
        },
        "id": "BG-HtLKFbGJX",
        "outputId": "384ae2a6-bb78-4321-b268-78244525d89b"
      },
      "outputs": [
        {
          "output_type": "stream",
          "name": "stdout",
          "text": [
            "Writing Prac02a.cpp\n"
          ]
        }
      ],
      "source": [
        " %%writefile Prac02a.cpp\n",
        "#include <stdio.h>\n",
        "#include <omp.h>\n",
        "#include <time.h>\n",
        "\n",
        "void bubbleSort(int arr[], int n) {\n",
        "    int i, j;\n",
        "    #pragma omp parallel for private(i, j) shared(arr)\n",
        "    for (i = 0; i < n-1; i++) {\n",
        "        // Last i elements are already in place, so only iterate till n-i-1\n",
        "        for (j = 0; j < n-i-1; j++) {\n",
        "            // Swap if the element found is greater than the next element\n",
        "            if (arr[j] > arr[j+1]) {\n",
        "                int temp = arr[j];\n",
        "                arr[j] = arr[j+1];\n",
        "                arr[j+1] = temp;\n",
        "            }\n",
        "        }\n",
        "    }\n",
        "}\n",
        "\n",
        "int main() {\n",
        "    int n;\n",
        "    printf(\"Enter the number of elements: \");\n",
        "    scanf(\"%d\", &n);\n",
        "\n",
        "    int arr[n];\n",
        "    printf(\"Enter the elements: \");\n",
        "    for (int i = 0; i < n; i++) {\n",
        "        scanf(\"%d\", &arr[i]);\n",
        "    }\n",
        "\n",
        "    printf(\"Unsorted array: \\n\");\n",
        "    for (int i = 0; i < n; i++) {\n",
        "        printf(\"%d \", arr[i]);\n",
        "    }\n",
        "    printf(\"\\n\");\n",
        "\n",
        "    double start_time = omp_get_wtime();\n",
        "    #pragma omp parallel\n",
        "    {\n",
        "        bubbleSort(arr, n);\n",
        "    }\n",
        "    double end_time = omp_get_wtime();\n",
        "\n",
        "    printf(\"Sorted array: \\n\");\n",
        "    for (int i = 0; i < n; i++) {\n",
        "        printf(\"%d \", arr[i]);\n",
        "    }\n",
        "    printf(\"\\n\");\n",
        "\n",
        "    printf(\"Total time taken by parallel section: %f seconds\\n\", end_time - start_time);\n",
        "    printf(\"Number of threads used: %d\\n\", omp_get_max_threads());\n",
        "\n",
        "    return 0;\n",
        "}\n"
      ]
    },
    {
      "cell_type": "markdown",
      "source": [],
      "metadata": {
        "id": "cjj7JzLdeAIO"
      }
    },
    {
      "cell_type": "code",
      "source": [],
      "metadata": {
        "id": "ozGSo6DJeCLH"
      },
      "execution_count": null,
      "outputs": []
    },
    {
      "cell_type": "code",
      "source": [
        "!g++ -fopenmp Prac02a.cpp -o Myexe"
      ],
      "metadata": {
        "id": "TilYkAqwbQEp"
      },
      "execution_count": null,
      "outputs": []
    },
    {
      "cell_type": "code",
      "source": [
        "!./Myexe\n"
      ],
      "metadata": {
        "colab": {
          "base_uri": "https://localhost:8080/"
        },
        "id": "JXYMA0EtbUOB",
        "outputId": "f4b97fd4-8b71-4754-edc3-ac51db6b5c0d"
      },
      "execution_count": null,
      "outputs": [
        {
          "output_type": "stream",
          "name": "stdout",
          "text": [
            "Enter the number of elements: 5\n",
            "Enter the elements: 10\n",
            "27\n",
            "90\n",
            "0\n",
            "22\n",
            "Unsorted array: \n",
            "10 27 90 0 22 \n",
            "Sorted array: \n",
            "0 10 22 27 90 \n",
            "Total time taken by parallel section: 0.000240 seconds\n",
            "Number of threads used: 2\n"
          ]
        }
      ]
    },
    {
      "cell_type": "code",
      "source": [
        " %%writefile Prac02b.cpp\n",
        "#include <stdio.h>\n",
        "#include <stdlib.h>\n",
        "#include <omp.h>\n",
        "#include <time.h>\n",
        "\n",
        "void merge(int arr[], int l, int m, int r) {\n",
        "    int i, j, k;\n",
        "    int n1 = m - l + 1;\n",
        "    int n2 = r - m;\n",
        "\n",
        "    // Create temporary arrays\n",
        "    int L[n1], R[n2];\n",
        "\n",
        "    // Copy data to temporary arrays L[] and R[]\n",
        "    for (i = 0; i < n1; i++)\n",
        "        L[i] = arr[l + i];\n",
        "    for (j = 0; j < n2; j++)\n",
        "        R[j] = arr[m + 1 + j];\n",
        "\n",
        "    // Merge the temporary arrays back into arr[l..r]\n",
        "    i = 0; // Initial index of first subarray\n",
        "    j = 0; // Initial index of second subarray\n",
        "    k = l; // Initial index of merged subarray\n",
        "    while (i < n1 && j < n2) {\n",
        "        if (L[i] <= R[j]) {\n",
        "            arr[k] = L[i];\n",
        "            i++;\n",
        "        } else {\n",
        "            arr[k] = R[j];\n",
        "            j++;\n",
        "        }\n",
        "        k++;\n",
        "    }\n",
        "\n",
        "    // Copy the remaining elements of L[], if any\n",
        "    while (i < n1) {\n",
        "        arr[k] = L[i];\n",
        "        i++;\n",
        "        k++;\n",
        "    }\n",
        "\n",
        "    // Copy the remaining elements of R[], if any\n",
        "    while (j < n2) {\n",
        "        arr[k] = R[j];\n",
        "        j++;\n",
        "        k++;\n",
        "    }\n",
        "}\n",
        "\n",
        "void mergeSort(int arr[], int l, int r) {\n",
        "    if (l < r) {\n",
        "        // Same as (l+r)/2, but avoids overflow for large l and r\n",
        "        int m = l + (r - l) / 2;\n",
        "\n",
        "        // Sort first and second halves in parallel\n",
        "        #pragma omp parallel sections\n",
        "        {\n",
        "            #pragma omp section\n",
        "            {\n",
        "                mergeSort(arr, l, m);\n",
        "            }\n",
        "            #pragma omp section\n",
        "            {\n",
        "                mergeSort(arr, m + 1, r);\n",
        "            }\n",
        "        }\n",
        "\n",
        "        merge(arr, l, m, r);\n",
        "    }\n",
        "}\n",
        "\n",
        "int main() {\n",
        "    int n;\n",
        "    printf(\"Enter the number of elements: \");\n",
        "    scanf(\"%d\", &n);\n",
        "\n",
        "    int arr[n];\n",
        "    printf(\"Enter the elements: \");\n",
        "    for (int i = 0; i < n; i++) {\n",
        "        scanf(\"%d\", &arr[i]);\n",
        "    }\n",
        "\n",
        "    printf(\"Unsorted array: \\n\");\n",
        "    for (int i = 0; i < n; i++) {\n",
        "        printf(\"%d \", arr[i]);\n",
        "    }\n",
        "    printf(\"\\n\");\n",
        "\n",
        "    double start_time = omp_get_wtime();\n",
        "    // Perform merge sort\n",
        "    #pragma omp parallel\n",
        "    {\n",
        "        #pragma omp single\n",
        "        mergeSort(arr, 0, n - 1);\n",
        "    }\n",
        "    double end_time = omp_get_wtime();\n",
        "\n",
        "    printf(\"Sorted array: \\n\");\n",
        "    for (int i = 0; i < n; i++) {\n",
        "        printf(\"%d \", arr[i]);\n",
        "    }\n",
        "    printf(\"\\n\");\n",
        "\n",
        "    printf(\"Time taken: %f seconds\\n\", end_time - start_time);\n",
        "    printf(\"Number of threads used: %d\\n\", omp_get_max_threads());\n",
        "\n",
        "    return 0;\n",
        "}\n"
      ],
      "metadata": {
        "colab": {
          "base_uri": "https://localhost:8080/"
        },
        "id": "EluIca-HbVCd",
        "outputId": "7e82a068-5ada-4738-fd2e-d59810a0bc85"
      },
      "execution_count": null,
      "outputs": [
        {
          "output_type": "stream",
          "name": "stdout",
          "text": [
            "Writing Prac02b.cpp\n"
          ]
        }
      ]
    },
    {
      "cell_type": "code",
      "source": [
        "!g++ -fopenmp Prac02b.cpp -o Myexe"
      ],
      "metadata": {
        "id": "0uA0wgBxdtQ6"
      },
      "execution_count": null,
      "outputs": []
    },
    {
      "cell_type": "code",
      "source": [
        "!./Myexe\n"
      ],
      "metadata": {
        "colab": {
          "base_uri": "https://localhost:8080/"
        },
        "id": "gNgzC5DHd2Xe",
        "outputId": "afd3d9d7-5f75-4d1f-f05e-f6d5038eec62"
      },
      "execution_count": null,
      "outputs": [
        {
          "output_type": "stream",
          "name": "stdout",
          "text": [
            "Enter the number of elements: 5\n",
            "Enter the elements: 2 \n",
            "7\n",
            "88\n",
            "55\n",
            "21\n",
            "Unsorted array: \n",
            "2 7 88 55 21 \n",
            "Sorted array: \n",
            "2 7 21 55 88 \n",
            "Time taken: 0.000138 seconds\n",
            "Number of threads used: 2\n"
          ]
        }
      ]
    },
    {
      "cell_type": "code",
      "source": [
        "# Let's analyze both parallel versions of the code individually and compare them to their sequential counterparts.\n",
        "\n",
        "# ### Prac02a.cpp - Parallel Bubble Sort\n",
        "\n",
        "# - **Parallelism**: In the parallel version, the bubble sort algorithm is executed concurrently by multiple threads using OpenMP parallelization.\n",
        "# - **Performance Improvement**: The parallel version can potentially exhibit better performance compared to the sequential version for large datasets and systems with multiple cores. This is because parallel execution allows multiple threads to simultaneously work on different portions of the array, potentially reducing the overall execution time.\n",
        "# - **Time Complexity**: Bubble sort has a time complexity of O(n^2) in both its sequential and parallel versions. Parallelizing bubble sort does not change its time complexity; however, it can improve its performance by distributing the workload across multiple threads.\n",
        "\n",
        "# ### Prac02b.cpp - Parallel Merge Sort\n",
        "\n",
        "# - **Parallelism**: In the parallel version, the merge sort algorithm is executed concurrently by multiple threads using OpenMP parallelization.\n",
        "# - **Performance Improvement**: The parallel version can exhibit significantly better performance compared to the sequential version, especially for large datasets. Merge sort has a time complexity of O(n log n), which makes it more efficient than bubble sort. Parallelizing merge sort allows multiple threads to work on sorting different portions of the array simultaneously, resulting in faster sorting times.\n",
        "# - **Time Complexity**: Merge sort has a time complexity of O(n log n), both in its sequential and parallel versions. Parallelizing merge sort does not change its time complexity; however, it can significantly improve its performance by leveraging multiple threads to divide and conquer the sorting process efficiently.\n",
        "\n",
        "# In summary, the parallel versions of both bubble sort and merge sort can potentially exhibit better performance compared to their sequential counterparts, especially for large datasets. While parallelization does not change the time complexities of the algorithms themselves, it can distribute the workload across multiple threads, leading to faster execution times, particularly for algorithms like merge sort with more efficient time complexities."
      ],
      "metadata": {
        "id": "-pXZa2mXd5Fw"
      },
      "execution_count": null,
      "outputs": []
    },
    {
      "cell_type": "code",
      "source": [
        " %%writefile Prac02afinal.cpp\n",
        "#include <iostream>\n",
        "#include <vector>\n",
        "#include <omp.h>\n",
        "#include <cstdlib> // for random number generation\n",
        "#include <ctime>   // for seeding random number generator\n",
        "using namespace std;\n",
        "\n",
        "void bubble_sort_odd_even(vector<int>& arr) {\n",
        "    bool isSorted = false;\n",
        "    while (!isSorted) {\n",
        "        isSorted = true;\n",
        "        #pragma omp parallel for\n",
        "        for (int i = 0; i < arr.size() - 1; i += 2) {\n",
        "            if (arr[i] > arr[i + 1]) {\n",
        "                swap(arr[i], arr[i + 1]);\n",
        "                isSorted = false;\n",
        "            }\n",
        "        }\n",
        "        #pragma omp parallel for\n",
        "        for (int i = 1; i < arr.size() - 1; i += 2) {\n",
        "            if (arr[i] > arr[i + 1]) {\n",
        "                swap(arr[i], arr[i + 1]);\n",
        "                isSorted = false;\n",
        "            }\n",
        "        }\n",
        "    }\n",
        "}\n",
        "\n",
        "int main() {\n",
        "    int n;\n",
        "    cout << \"Enter the number of elements: \";\n",
        "    cin >> n;\n",
        "\n",
        "    // Uncomment the following section to generate random values for sorting\n",
        "    // cout << \"Enter the number of elements (or uncomment to generate random values): \";\n",
        "    // cin >> n;\n",
        "    // srand(time(0)); // Seed random number generator\n",
        "    // vector<int> arr(n);\n",
        "    // for (int i = 0; i < n; ++i) {\n",
        "    //     arr[i] = rand() % 1000; // Generate random numbers between 0 and 999\n",
        "    // }\n",
        "\n",
        "    # // vector<int> arr(n);\n",
        "    # // cout << \"Enter \" << n << \" elements:\\n\";\n",
        "    # // for (int i = 0; i < n; ++i) {\n",
        "    # //     cin >> arr[i];\n",
        "    # // }\n",
        "\n",
        "    double start, end;\n",
        "    // Measure performance of parallel bubble sort using odd-even transposition\n",
        "    start = omp_get_wtime();\n",
        "    bubble_sort_odd_even(arr);\n",
        "    end = omp_get_wtime();\n",
        "\n",
        "    cout << \"Sorted array:\";\n",
        "    for (int i = 0; i < n; ++i) {\n",
        "        cout << \" \" << arr[i];\n",
        "    }\n",
        "    cout << endl;\n",
        "\n",
        "    cout << \"Parallel bubble sort using odd-even transposition time: \" << end - start << \" seconds\" << endl;\n",
        "\n",
        "    return 0;\n",
        "}\n"
      ],
      "metadata": {
        "id": "TNBWusSXfROn",
        "colab": {
          "base_uri": "https://localhost:8080/"
        },
        "outputId": "0a5e83fb-eedf-447f-9ba8-eb1d4b7a4157"
      },
      "execution_count": null,
      "outputs": [
        {
          "output_type": "stream",
          "name": "stdout",
          "text": [
            "Overwriting Prac02afinal.cpp\n"
          ]
        }
      ]
    },
    {
      "cell_type": "code",
      "source": [
        "!g++ -fopenmp Prac02afinal.cpp -o Myexe"
      ],
      "metadata": {
        "id": "wbUZcgxN-ZWx"
      },
      "execution_count": null,
      "outputs": []
    },
    {
      "cell_type": "code",
      "source": [
        "!./Myexe"
      ],
      "metadata": {
        "colab": {
          "base_uri": "https://localhost:8080/"
        },
        "id": "EucgQaVW-b-7",
        "outputId": "a9d243a9-7ee5-4b0c-c3b6-617ee1252aea"
      },
      "execution_count": null,
      "outputs": [
        {
          "output_type": "stream",
          "name": "stdout",
          "text": [
            "Enter the number of elements: 20\n",
            "Sorted array: 48 114 283 392 394 395 464 466 483 505 545 563 592 691 695 762 800 876 876 917\n",
            "Parallel bubble sort using odd-even transposition time: 0.000121076 seconds\n"
          ]
        }
      ]
    },
    {
      "cell_type": "code",
      "source": [
        " %%writefile Prac02afinall.cpp\n",
        "#include<iostream>\n",
        "#include<omp.h>\n",
        "#include<cstdlib> // for random number generation\n",
        "#include<ctime>   // for seeding random number generator\n",
        "\n",
        "using namespace std;\n",
        "\n",
        "void bubble(int array[], int n){\n",
        "    for (int i = 0; i < n - 1; i++){\n",
        "        for (int j = 0; j < n - i - 1; j++){\n",
        "            if (array[j] > array[j + 1]) swap(array[j], array[j + 1]);\n",
        "        }\n",
        "    }\n",
        "}\n",
        "\n",
        "void pBubble(int array[], int n){\n",
        "    //Sort odd indexed numbers\n",
        "    for(int i = 0; i < n; ++i){\n",
        "        #pragma omp for\n",
        "        for (int j = 1; j < n; j += 2){\n",
        "        if (array[j] < array[j-1])\n",
        "        {\n",
        "          swap(array[j], array[j - 1]);\n",
        "        }\n",
        "    }\n",
        "\n",
        "    // Synchronize\n",
        "    #pragma omp barrier\n",
        "\n",
        "    //Sort even indexed numbers\n",
        "    #pragma omp for\n",
        "    for (int j = 2; j < n; j += 2){\n",
        "      if (array[j] < array[j-1])\n",
        "      {\n",
        "        swap(array[j], array[j - 1]);\n",
        "      }\n",
        "    }\n",
        "  }\n",
        "}\n",
        "\n",
        "void printArray(int arr[], int n){\n",
        "    for(int i = 0; i < n; i++) cout << arr[i] << \" \";\n",
        "    cout << \"\\n\";\n",
        "}\n",
        "\n",
        "int main(){\n",
        "    // Set up variables\n",
        "    int n;\n",
        "    cout << \"Enter the number of elements: \";\n",
        "    cin >> n;\n",
        "\n",
        "    int arr[n];\n",
        "    int brr[n];\n",
        "    double start_time, end_time;\n",
        "\n",
        "    // Uncomment the following section to generate random input\n",
        "    srand(time(0)); // Seed random number generator\n",
        "    cout << \"Randomly generated array:\" << endl;\n",
        "    for (int i = 0; i < n; ++i) {\n",
        "        arr[i] = rand() % 1000; // Generate random numbers between 0 and 999\n",
        "        cout << arr[i] << \" \";\n",
        "    }\n",
        "    cout << endl;\n",
        "\n",
        "    // User input\n",
        "    // cout << \"Enter the elements: \";\n",
        "    // for (int i = 0; i < n; i++) {\n",
        "    //     cin >> arr[i];\n",
        "    // }\n",
        "\n",
        "    // Sequential time\n",
        "    start_time = omp_get_wtime();\n",
        "    bubble(arr, n);\n",
        "    end_time = omp_get_wtime();\n",
        "    cout << \"Sequential Bubble Sort took : \" << end_time - start_time << \" seconds.\\n\";\n",
        "    printArray(arr, n);\n",
        "\n",
        "    // Reset the array\n",
        "    for(int i = 0; i < n; i++) brr[i] = arr[i];\n",
        "\n",
        "    // Parallel time\n",
        "    start_time = omp_get_wtime();\n",
        "    pBubble(brr, n);\n",
        "    end_time = omp_get_wtime();\n",
        "    cout << \"Parallel Bubble Sort took : \" << end_time - start_time << \" seconds.\\n\";\n",
        "    printArray(brr, n);\n",
        "}\n"
      ],
      "metadata": {
        "id": "JPrhp_9y-e4D",
        "colab": {
          "base_uri": "https://localhost:8080/"
        },
        "outputId": "66250a7e-9010-4d20-b114-08de7a29e0a9"
      },
      "execution_count": 13,
      "outputs": [
        {
          "output_type": "stream",
          "name": "stdout",
          "text": [
            "Overwriting Prac02afinall.cpp\n"
          ]
        }
      ]
    },
    {
      "cell_type": "code",
      "source": [
        "!g++ -fopenmp Prac02afinall.cpp -o Myexe"
      ],
      "metadata": {
        "id": "DUTreX-y3xZZ"
      },
      "execution_count": 14,
      "outputs": []
    },
    {
      "cell_type": "code",
      "source": [
        "!./Myexe"
      ],
      "metadata": {
        "colab": {
          "base_uri": "https://localhost:8080/"
        },
        "id": "CeLQkyyT365z",
        "outputId": "f8232c8f-4685-4d2c-8e37-bca6a7775e90"
      },
      "execution_count": 16,
      "outputs": [
        {
          "output_type": "stream",
          "name": "stdout",
          "text": [
            "Enter the number of elements: 100\n",
            "Randomly generated array:\n",
            "575 581 928 265 936 59 616 422 72 872 681 700 304 274 849 173 808 127 177 629 23 300 836 558 40 697 966 75 201 585 16 129 167 296 394 455 355 362 229 779 234 911 480 538 185 681 712 345 809 241 326 832 893 162 391 934 860 357 9 413 295 377 542 462 673 289 917 381 651 498 512 886 409 344 424 947 26 488 644 187 81 971 371 975 133 114 261 345 472 622 759 119 0 653 581 25 942 850 758 946 \n",
            "Sequential Bubble Sort took : 5.8157e-05 seconds.\n",
            "0 9 16 23 25 26 40 59 72 75 81 114 119 127 129 133 162 167 173 177 185 187 201 229 234 241 261 265 274 289 295 296 300 304 326 344 345 345 355 357 362 371 377 381 391 394 409 413 422 424 455 462 472 480 488 498 512 538 542 558 575 581 581 585 616 622 629 644 651 653 673 681 681 697 700 712 758 759 779 808 809 832 836 849 850 860 872 886 893 911 917 928 934 936 942 946 947 966 971 975 \n",
            "Parallel Bubble Sort took : 4.1103e-05 seconds.\n",
            "0 9 16 23 25 26 40 59 72 75 81 114 119 127 129 133 162 167 173 177 185 187 201 229 234 241 261 265 274 289 295 296 300 304 326 344 345 345 355 357 362 371 377 381 391 394 409 413 422 424 455 462 472 480 488 498 512 538 542 558 575 581 581 585 616 622 629 644 651 653 673 681 681 697 700 712 758 759 779 808 809 832 836 849 850 860 872 886 893 911 917 928 934 936 942 946 947 966 971 975 \n"
          ]
        }
      ]
    },
    {
      "cell_type": "code",
      "source": [],
      "metadata": {
        "id": "teWRxLuO4AFb"
      },
      "execution_count": null,
      "outputs": []
    }
  ]
}